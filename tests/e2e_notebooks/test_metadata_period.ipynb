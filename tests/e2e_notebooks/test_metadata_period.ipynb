{
  "cells": [
    {
      "cell_type": "markdown",
      "source": [
        "This notebook tests that metadata keys with periods can be stripped."
      ],
      "metadata": {
        "application/vnd.databricks.v1+cell": {
          "title": "",
          "showTitle": false,
          "inputWidgets": {},
          "nuid": "4006abf4-c940-4065-aa15-3772229cbe25"
        }
      }
    },
    {
      "cell_type": "code",
      "source": [
        "1+1"
      ],
      "metadata": {
        "application/vnd.databricks.v1+cell": {
          "title": "",
          "showTitle": false,
          "inputWidgets": {},
          "nuid": "5069d88c-a72a-40b8-acf5-258ee9649736"
        }
      },
      "outputs": [
        {
          "output_type": "display_data",
          "metadata": {
            "application/vnd.databricks.v1+output": {
              "datasetInfos": [],
              "data": "<div class=\"ansiout\">Out[1]: 2</div>",
              "removedWidgets": [],
              "addedWidgets": {},
              "type": "html",
              "arguments": {}
            }
          },
          "data": {
            "text/html": [
              "<style scoped>\n  .ansiout {\n    display: block;\n    unicode-bidi: embed;\n    white-space: pre-wrap;\n    word-wrap: break-word;\n    word-break: break-all;\n    font-family: \"Source Code Pro\", \"Menlo\", monospace;;\n    font-size: 13px;\n    color: #555;\n    margin-left: 4px;\n    line-height: 19px;\n  }\n</style>\n<div class=\"ansiout\">Out[1]: 2</div>"
            ]
          }
        }
      ],
      "execution_count": 0
    }
  ],
  "metadata": {
    "application/vnd.databricks.v1+notebook": {
      "notebookName": "test_metadata_period",
      "dashboards": [],
      "language": "python",
      "widgets": {},
      "notebookOrigID": 123456
    }
  },
  "nbformat": 4,
  "nbformat_minor": 0
}
