{
 "cells": [
  {
   "cell_type": "code",
   "execution_count": 1,
   "id": "5c42035d",
   "metadata": {},
   "outputs": [
    {
     "data": {
      "text/plain": [
       "'This is the new Jupyter notebook'"
      ]
     },
     "execution_count": 1,
     "metadata": {},
     "output_type": "execute_result"
    }
   ],
   "source": [
    "\"This is the new Jupyter notebook\""
   ]
  },
  {
   "cell_type": "code",
   "execution_count": 1,
   "id": "886205fa",
   "metadata": {
    "scrolled": false
   },
   "outputs": [
    {
     "data": {
      "text/plain": [
       "'text2'"
      ]
     },
     "execution_count": 1,
     "metadata": {},
     "output_type": "execute_result"
    }
   ],
   "source": [
    "\"text2\""
   ]
  },
  {
   "cell_type": "code",
   "execution_count": 3,
   "id": "a183d4e9",
   "metadata": {},
   "outputs": [
    {
     "name": "stdout",
     "output_type": "stream",
     "text": [
      "f(3) =  4\n"
     ]
    }
   ],
   "source": [
    "def f(x):\n",
    "    \"\"\"My function\n",
    "    x : parameter\"\"\"\n",
    "    \n",
    "    return x+1\n",
    "\n",
    "print(\"f(3) = \", f(3))"
   ]
  }
 ],
 "metadata": {
  "kernelspec": {
   "display_name": "Python 3 (ipykernel)",
   "language": "python",
   "name": "python3"
  },
  "language_info": {
   "codemirror_mode": {
    "name": "ipython",
    "version": 3
   },
   "file_extension": ".py",
   "mimetype": "text/x-python",
   "name": "python",
   "nbconvert_exporter": "python",
   "pygments_lexer": "ipython3",
   "version": "3.10.6"
  }
 },
 "nbformat": 4,
 "nbformat_minor": 5
}
