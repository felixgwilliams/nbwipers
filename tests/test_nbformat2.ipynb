{
 "metadata": {
  "name": "01_notebook_introduction"
 },
 "nbformat": 2,
 "worksheets": [
  {
   "cells": [
    {
     "cell_type": "code",
     "collapsed": false,
     "input": [
      "\"This is the new Jupyter notebook\""
     ],
     "language": "python",
     "outputs": [
      {
       "output_type": "pyout",
       "prompt_number": 1,
       "text": [
        "'This is the new Jupyter notebook'"
       ]
      }
     ],
     "prompt_number": 1
    },
    {
     "cell_type": "code",
     "collapsed": false,
     "input": [
      "ls"
     ],
     "language": "python",
     "outputs": [
      {
       "output_type": "stream",
       "stream": "stdout",
       "text": [
        "00_notebook_tour.ipynb          formatting.ipynb  sympy_quantum_computing.ipynb",
        "01_notebook_introduction.ipynb  python-logo.svg   trapezoid_rule.ipynb",
        "display_protocol.ipynb          sympy.ipynb"
       ]
      }
     ],
     "prompt_number": 2
    },
    {
     "cell_type": "code",
     "collapsed": false,
     "input": [
      "def f(x):",
      "    \"\"\"My function",
      "    x : parameter\"\"\"",
      "    ",
      "    return x+1",
      "",
      "print \"f(3) = \", f(3)"
     ],
     "language": "python",
     "outputs": [
      {
       "output_type": "stream",
       "stream": "stdout",
       "text": [
        "f(3) =  4"
       ]
      }
     ],
     "prompt_number": 3
    }
   ]
  }
 ]
}
